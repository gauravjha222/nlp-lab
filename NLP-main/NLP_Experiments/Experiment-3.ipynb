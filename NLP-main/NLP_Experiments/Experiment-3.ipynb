{
 "cells": [
  {
   "cell_type": "code",
   "execution_count": 2,
   "id": "1dba5ada",
   "metadata": {},
   "outputs": [
    {
     "name": "stdout",
     "output_type": "stream",
     "text": [
      "[('This', 'python'), ('is', 'This'), ('a', 'is'), ('sample', 'a'), ('text', 'sample'), ('for', 'text'), ('generating', 'for'), ('bigrams', 'generating'), ('in', 'bigrams')]\n"
     ]
    }
   ],
   "source": [
    "def generate_bigrams(text):\n",
    "    word=text.split()\n",
    "    bigrams=[(word[i],word[i-1]) for i in range(len(word)-1)]\n",
    "    return bigrams\n",
    "text=\"This is a sample text for generating bigrams in python\"\n",
    "result=generate_bigrams(text)\n",
    "print(result)"
   ]
  },
  {
   "cell_type": "code",
   "execution_count": null,
   "id": "c1f7720b",
   "metadata": {},
   "outputs": [],
   "source": []
  }
 ],
 "metadata": {
  "kernelspec": {
   "display_name": "Python 3 (ipykernel)",
   "language": "python",
   "name": "python3"
  },
  "language_info": {
   "codemirror_mode": {
    "name": "ipython",
    "version": 3
   },
   "file_extension": ".py",
   "mimetype": "text/x-python",
   "name": "python",
   "nbconvert_exporter": "python",
   "pygments_lexer": "ipython3",
   "version": "3.10.9"
  }
 },
 "nbformat": 4,
 "nbformat_minor": 5
}
