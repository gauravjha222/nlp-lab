{
 "cells": [
  {
   "cell_type": "markdown",
   "id": "dc9c70e9",
   "metadata": {},
   "source": [
    "## Count the frequency of word in given string"
   ]
  },
  {
   "cell_type": "code",
   "execution_count": 2,
   "id": "a56fcecb",
   "metadata": {},
   "outputs": [
    {
     "name": "stdout",
     "output_type": "stream",
     "text": [
      "Frequency of This is: 2\n",
      "Frequency of is is: 3\n",
      "Frequency of a is: 1\n",
      "Frequency of apple is: 3\n",
      "Frequency of , is: 3\n",
      "Frequency of red is: 2\n",
      "Frequency of in is: 1\n",
      "Frequency of color is: 2\n",
      "Frequency of hence is: 1\n",
      "Frequency of regularly is: 1\n",
      "Frequency of eat is: 1\n",
      "Frequency of banana is: 1\n",
      "Frequency of not is: 1\n"
     ]
    }
   ],
   "source": [
    "text=\"This is a apple , This apple is red in color , hence regularly eat apple , banana color is not red\"\n",
    "from collections import Counter\n",
    "def freq(text):\n",
    "    p=text.split()\n",
    "    frequency=Counter(p)\n",
    "    for word in frequency:\n",
    "        print('Frequency of',word,'is:',frequency[word])\n",
    "freq(text)"
   ]
  }
 ],
 "metadata": {
  "kernelspec": {
   "display_name": "Python 3 (ipykernel)",
   "language": "python",
   "name": "python3"
  },
  "language_info": {
   "codemirror_mode": {
    "name": "ipython",
    "version": 3
   },
   "file_extension": ".py",
   "mimetype": "text/x-python",
   "name": "python",
   "nbconvert_exporter": "python",
   "pygments_lexer": "ipython3",
   "version": "3.10.9"
  }
 },
 "nbformat": 4,
 "nbformat_minor": 5
}
