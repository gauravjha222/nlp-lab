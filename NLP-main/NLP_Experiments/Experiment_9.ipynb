{
  "nbformat": 4,
  "nbformat_minor": 0,
  "metadata": {
    "colab": {
      "provenance": []
    },
    "kernelspec": {
      "name": "python3",
      "display_name": "Python 3"
    },
    "language_info": {
      "name": "python"
    }
  },
  "cells": [
    {
      "cell_type": "markdown",
      "source": [
        "**Code Implementation of HMM for POS tagging**"
      ],
      "metadata": {
        "id": "5DHIWQP9QyeL"
      }
    },
    {
      "cell_type": "code",
      "source": [
        "import nltk\n",
        "nltk.download('brown')"
      ],
      "metadata": {
        "colab": {
          "base_uri": "https://localhost:8080/"
        },
        "id": "MQ5aa5NXRgBQ",
        "outputId": "140ae78d-28e8-45e8-e827-cc952972c7fd"
      },
      "execution_count": 2,
      "outputs": [
        {
          "output_type": "stream",
          "name": "stderr",
          "text": [
            "[nltk_data] Downloading package brown to /root/nltk_data...\n",
            "[nltk_data]   Unzipping corpora/brown.zip.\n"
          ]
        },
        {
          "output_type": "execute_result",
          "data": {
            "text/plain": [
              "True"
            ]
          },
          "metadata": {},
          "execution_count": 2
        }
      ]
    },
    {
      "cell_type": "code",
      "source": [
        "nltk.download('universal_tagset')"
      ],
      "metadata": {
        "colab": {
          "base_uri": "https://localhost:8080/"
        },
        "id": "2Fm0dfN3RpON",
        "outputId": "14d150bd-7bc1-4fb1-d236-c6e6a1fdcb88"
      },
      "execution_count": 4,
      "outputs": [
        {
          "output_type": "stream",
          "name": "stderr",
          "text": [
            "[nltk_data] Downloading package universal_tagset to /root/nltk_data...\n",
            "[nltk_data]   Unzipping taggers/universal_tagset.zip.\n"
          ]
        },
        {
          "output_type": "execute_result",
          "data": {
            "text/plain": [
              "True"
            ]
          },
          "metadata": {},
          "execution_count": 4
        }
      ]
    },
    {
      "cell_type": "code",
      "source": [
        "nltk.download('punkt')"
      ],
      "metadata": {
        "colab": {
          "base_uri": "https://localhost:8080/"
        },
        "id": "EiWYcwaiR0_w",
        "outputId": "19c29eed-395f-4fd0-c8c1-7b89a380b6c9"
      },
      "execution_count": 6,
      "outputs": [
        {
          "output_type": "stream",
          "name": "stderr",
          "text": [
            "[nltk_data] Downloading package punkt to /root/nltk_data...\n",
            "[nltk_data]   Unzipping tokenizers/punkt.zip.\n"
          ]
        },
        {
          "output_type": "execute_result",
          "data": {
            "text/plain": [
              "True"
            ]
          },
          "metadata": {},
          "execution_count": 6
        }
      ]
    },
    {
      "cell_type": "code",
      "source": [
        "import nltk\n",
        "from nltk.corpus import brown\n",
        "from nltk import FreqDist\n",
        "from nltk.probability import ConditionalFreqDist\n",
        "\n",
        "# Training the HMM POS Tagger\n",
        "def train_hmm_tagger():\n",
        "    # Get the tagged sentences from the Brown corpus\n",
        "    tagged_sentences = brown.tagged_sents(tagset='universal')\n",
        "\n",
        "    # Splitting into train and test datasets\n",
        "    split_size = int(0.9 * len(tagged_sentences))\n",
        "    train_sents = tagged_sentences[:split_size]\n",
        "    test_sents = tagged_sentences[split_size:]\n",
        "\n",
        "    # Create the emission and transition probability distributions\n",
        "    emissions = ConditionalFreqDist()\n",
        "    transitions = ConditionalFreqDist()\n",
        "\n",
        "    for sentence in train_sents:\n",
        "        previous_tag = None\n",
        "        for (word, tag) in sentence:\n",
        "            # Train emission probabilities\n",
        "            emissions[tag][word] += 1\n",
        "\n",
        "            # Train transition probabilities\n",
        "            if previous_tag:\n",
        "                transitions[previous_tag][tag] += 1\n",
        "            previous_tag = tag\n",
        "\n",
        "    # Calculate probabilities based on frequency distributions\n",
        "    emission_probabilities = ConditionalFreqDist()\n",
        "    transition_probabilities = ConditionalFreqDist()\n",
        "\n",
        "    for tag in emissions.conditions():\n",
        "        total_count = sum(emissions[tag].values())\n",
        "        for word in emissions[tag]:\n",
        "            emission_probabilities[tag][word] = emissions[tag][word] / total_count\n",
        "\n",
        "    for tag in transitions.conditions():\n",
        "        total_count = sum(transitions[tag].values())\n",
        "        for next_tag in transitions[tag]:\n",
        "            transition_probabilities[tag][next_tag] = transitions[tag][next_tag] / total_count\n",
        "\n",
        "    return emission_probabilities, transition_probabilities\n",
        "\n",
        "# Implement the HMM POS tagger\n",
        "def hmm_pos_tagger(emission_probs, transition_probs, sentence):\n",
        "    tags = list(emission_probs.keys())\n",
        "    tagged_sequence = []\n",
        "\n",
        "    for word in sentence:\n",
        "        max_prob = 0\n",
        "        assigned_tag = ''\n",
        "        for tag in tags:\n",
        "            if word in emission_probs[tag]:\n",
        "                emission_prob = emission_probs[tag][word]\n",
        "            else:\n",
        "                emission_prob = 0.0001  # Assign a small probability for unknown words\n",
        "\n",
        "            transition_prob = transition_probs[tag].freq(tag)\n",
        "            current_prob = emission_prob * transition_prob\n",
        "\n",
        "            if current_prob > max_prob:\n",
        "                max_prob = current_prob\n",
        "                assigned_tag = tag\n",
        "\n",
        "        tagged_sequence.append((word, assigned_tag))\n",
        "\n",
        "    return tagged_sequence\n",
        "\n",
        "# Train the HMM POS tagger\n",
        "emission_probabilities, transition_probabilities = train_hmm_tagger()\n",
        "\n",
        "# Test the HMM POS tagger\n",
        "test_sentence = \"The quick brown fox jumps over the lazy dog\"\n",
        "tokenized_test_sentence = nltk.word_tokenize(test_sentence.lower())  # Lowercasing for simplicity\n",
        "tagged_sequence = hmm_pos_tagger(emission_probabilities, transition_probabilities, tokenized_test_sentence)\n",
        "print(tagged_sequence)\n"
      ],
      "metadata": {
        "colab": {
          "base_uri": "https://localhost:8080/"
        },
        "id": "vNdE1BNyQ7at",
        "outputId": "365a5bba-4293-401c-c833-777621c13446"
      },
      "execution_count": 7,
      "outputs": [
        {
          "output_type": "stream",
          "name": "stdout",
          "text": [
            "[('the', 'DET'), ('quick', 'X'), ('brown', 'X'), ('fox', 'X'), ('jumps', 'X'), ('over', 'PRT'), ('the', 'DET'), ('lazy', 'X'), ('dog', 'X')]\n"
          ]
        }
      ]
    }
  ]
}