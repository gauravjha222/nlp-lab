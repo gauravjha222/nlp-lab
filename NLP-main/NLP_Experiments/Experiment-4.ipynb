{
 "cells": [
  {
   "cell_type": "code",
   "execution_count": 2,
   "id": "8482d354",
   "metadata": {},
   "outputs": [
    {
     "name": "stdout",
     "output_type": "stream",
     "text": [
      "[('This', 'is', 'a'), ('is', 'a', 'sample'), ('a', 'sample', 'text'), ('sample', 'text', 'for'), ('text', 'for', 'generating'), ('for', 'generating', 'bigrams'), ('generating', 'bigrams', 'in'), ('bigrams', 'in', 'python')]\n"
     ]
    }
   ],
   "source": [
    "def generate_trigrams(text):\n",
    "    word=text.split()\n",
    "    bigrams=[(word[i],word[i+1],word[i+2]) for i in range(len(word)-2)]\n",
    "    return bigrams\n",
    "text=\"This is a sample text for generating bigrams in python\"\n",
    "result=generate_trigrams(text)\n",
    "print(result)"
   ]
  }
 ],
 "metadata": {
  "kernelspec": {
   "display_name": "Python 3 (ipykernel)",
   "language": "python",
   "name": "python3"
  },
  "language_info": {
   "codemirror_mode": {
    "name": "ipython",
    "version": 3
   },
   "file_extension": ".py",
   "mimetype": "text/x-python",
   "name": "python",
   "nbconvert_exporter": "python",
   "pygments_lexer": "ipython3",
   "version": "3.10.9"
  }
 },
 "nbformat": 4,
 "nbformat_minor": 5
}
