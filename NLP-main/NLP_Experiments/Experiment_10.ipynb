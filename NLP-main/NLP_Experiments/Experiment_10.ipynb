{
  "nbformat": 4,
  "nbformat_minor": 0,
  "metadata": {
    "colab": {
      "provenance": []
    },
    "kernelspec": {
      "name": "python3",
      "display_name": "Python 3"
    },
    "language_info": {
      "name": "python"
    }
  },
  "cells": [
    {
      "cell_type": "markdown",
      "source": [
        "**Build a chunker**"
      ],
      "metadata": {
        "id": "ZM1IEHdoSRgJ"
      }
    },
    {
      "cell_type": "code",
      "source": [
        "import nltk\n",
        "nltk.download('state_union')"
      ],
      "metadata": {
        "colab": {
          "base_uri": "https://localhost:8080/"
        },
        "id": "IWPKy6pPTOSn",
        "outputId": "4600d921-12cc-45c9-d969-cf9bac5662d7"
      },
      "execution_count": 2,
      "outputs": [
        {
          "output_type": "stream",
          "name": "stderr",
          "text": [
            "[nltk_data] Downloading package state_union to /root/nltk_data...\n",
            "[nltk_data]   Unzipping corpora/state_union.zip.\n"
          ]
        },
        {
          "output_type": "execute_result",
          "data": {
            "text/plain": [
              "True"
            ]
          },
          "metadata": {},
          "execution_count": 2
        }
      ]
    },
    {
      "cell_type": "code",
      "source": [
        "nltk.download('punkt')"
      ],
      "metadata": {
        "colab": {
          "base_uri": "https://localhost:8080/"
        },
        "id": "JahXApIBTWir",
        "outputId": "725905d7-29ed-444f-9e70-89d0e2dfcd15"
      },
      "execution_count": 4,
      "outputs": [
        {
          "output_type": "stream",
          "name": "stderr",
          "text": [
            "[nltk_data] Downloading package punkt to /root/nltk_data...\n",
            "[nltk_data]   Unzipping tokenizers/punkt.zip.\n"
          ]
        },
        {
          "output_type": "execute_result",
          "data": {
            "text/plain": [
              "True"
            ]
          },
          "metadata": {},
          "execution_count": 4
        }
      ]
    },
    {
      "cell_type": "code",
      "source": [
        "nltk.download('averaged_perceptron_tagger')"
      ],
      "metadata": {
        "colab": {
          "base_uri": "https://localhost:8080/"
        },
        "id": "H6qR69WhTc4a",
        "outputId": "9bb56e4f-b2fb-4d2b-bc85-40f330126ba2"
      },
      "execution_count": 6,
      "outputs": [
        {
          "output_type": "stream",
          "name": "stderr",
          "text": [
            "[nltk_data] Downloading package averaged_perceptron_tagger to\n",
            "[nltk_data]     /root/nltk_data...\n",
            "[nltk_data]   Unzipping taggers/averaged_perceptron_tagger.zip.\n"
          ]
        },
        {
          "output_type": "execute_result",
          "data": {
            "text/plain": [
              "True"
            ]
          },
          "metadata": {},
          "execution_count": 6
        }
      ]
    },
    {
      "cell_type": "code",
      "source": [
        "import nltk\n",
        "from nltk.tokenize import PunktSentenceTokenizer\n",
        "\n",
        "# Sample sentence\n",
        "sample_sentence = \"The cat chased the mouse quickly and jumped over the fence.\"\n",
        "\n",
        "# Training the Punkt tokenizer (optional, you can use your own tokenizer or pre-trained tokenizer)\n",
        "custom_sent_tokenizer = PunktSentenceTokenizer()\n",
        "\n",
        "# Tokenizing and tagging the sample sentence\n",
        "tokenized = custom_sent_tokenizer.tokenize(sample_sentence)\n",
        "for sentence in tokenized:\n",
        "    words = nltk.word_tokenize(sentence)\n",
        "    tagged = nltk.pos_tag(words)\n",
        "\n",
        "    # Define a chunk grammar using regular expressions\n",
        "    chunkGram = r\"\"\"Chunk: {<RB.?>*<VB.?>*<NNP>+<NN>?}\"\"\"\n",
        "\n",
        "    # Create a chunk parser with the defined grammar\n",
        "    chunkParser = nltk.RegexpParser(chunkGram)\n",
        "\n",
        "    # Parse the tagged sentence to extract chunks\n",
        "    chunked = chunkParser.parse(tagged)\n",
        "    print(chunked)\n"
      ],
      "metadata": {
        "colab": {
          "base_uri": "https://localhost:8080/"
        },
        "id": "FqJ6Toq3T1o5",
        "outputId": "dcf046b7-2499-4db0-dadd-3676aa514eaa"
      },
      "execution_count": 8,
      "outputs": [
        {
          "output_type": "stream",
          "name": "stdout",
          "text": [
            "(S\n",
            "  The/DT\n",
            "  cat/NN\n",
            "  chased/VBD\n",
            "  the/DT\n",
            "  mouse/NN\n",
            "  quickly/RB\n",
            "  and/CC\n",
            "  jumped/VBD\n",
            "  over/IN\n",
            "  the/DT\n",
            "  fence/NN\n",
            "  ./.)\n"
          ]
        }
      ]
    }
  ]
}